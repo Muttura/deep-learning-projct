{
 "cells": [
  {
   "cell_type": "code",
   "execution_count": 29,
   "metadata": {},
   "outputs": [],
   "source": [
    "#import library\n",
    "import numpy as np\n",
    "import matplotlib.pyplot as plt\n",
    "%matplotlib inline"
   ]
  },
  {
   "cell_type": "code",
   "execution_count": 9,
   "metadata": {},
   "outputs": [],
   "source": [
    "#include keras\n",
    "import keras"
   ]
  },
  {
   "cell_type": "code",
   "execution_count": 12,
   "metadata": {},
   "outputs": [
    {
     "data": {
      "text/plain": [
       "'tensorflow'"
      ]
     },
     "execution_count": 12,
     "metadata": {},
     "output_type": "execute_result"
    }
   ],
   "source": [
    "#ltes check backend keras\n",
    "keras.backend.backend()"
   ]
  },
  {
   "cell_type": "code",
   "execution_count": null,
   "metadata": {},
   "outputs": [],
   "source": [
    "#lets import keras fashion_mnist go to api documentaion"
   ]
  },
  {
   "cell_type": "code",
   "execution_count": 27,
   "metadata": {},
   "outputs": [],
   "source": [
    "#keras datasets fashion mnist here import train data  \n",
    "from keras.datasets import fashion_mnist\n",
    "# I have my x_train y_train \n",
    "(x_train, y_train), (x_test, y_test) = fashion_mnist.load_data()"
   ]
  },
  {
   "cell_type": "code",
   "execution_count": 21,
   "metadata": {},
   "outputs": [
    {
     "data": {
      "text/plain": [
       "(60000, 28, 28)"
      ]
     },
     "execution_count": 21,
     "metadata": {},
     "output_type": "execute_result"
    }
   ],
   "source": [
    "#lets check.shape\n",
    "x_train.shape"
   ]
  },
  {
   "cell_type": "code",
   "execution_count": 23,
   "metadata": {},
   "outputs": [
    {
     "data": {
      "text/plain": [
       "(10000, 28, 28)"
      ]
     },
     "execution_count": 23,
     "metadata": {},
     "output_type": "execute_result"
    }
   ],
   "source": [
    "#lets \n",
    "x_test.shape"
   ]
  },
  {
   "cell_type": "code",
   "execution_count": 129,
   "metadata": {},
   "outputs": [
    {
     "data": {
      "text/plain": [
       "<matplotlib.image.AxesImage at 0x1aa0e05ee48>"
      ]
     },
     "execution_count": 129,
     "metadata": {},
     "output_type": "execute_result"
    },
    {
     "data": {
      "image/png": "[encoded data removed]",
      "text/plain": [
       "<Figure size 288x288 with 1 Axes>"
      ]
     },
     "metadata": {
      "needs_background": "light"
     },
     "output_type": "display_data"
    }
   ],
   "source": [
    "#this 8/8 images\n",
    "plt.matshow(x_train[1])"
   ]
  },
  {
   "cell_type": "code",
   "execution_count": 39,
   "metadata": {},
   "outputs": [
    {
     "data": {
      "text/plain": [
       "0"
      ]
     },
     "execution_count": 39,
     "metadata": {},
     "output_type": "execute_result"
    }
   ],
   "source": [
    "#ltes check lable\n",
    "y_train[1]"
   ]
  },
  {
   "cell_type": "code",
   "execution_count": 130,
   "metadata": {},
   "outputs": [],
   "source": [
    "x_train=x_train/255\n",
    "x_test=x_test/255"
   ]
  },
  {
   "cell_type": "code",
   "execution_count": 45,
   "metadata": {},
   "outputs": [
    {
     "data": {
      "text/plain": [
       "array([[0.00000000e+00, 0.00000000e+00, 0.00000000e+00, 0.00000000e+00,\n",
       "        0.00000000e+00, 0.00000000e+00, 0.00000000e+00, 0.00000000e+00,\n",
       "        0.00000000e+00, 0.00000000e+00, 0.00000000e+00, 0.00000000e+00,\n",
       "        0.00000000e+00, 0.00000000e+00, 0.00000000e+00, 0.00000000e+00,\n",
       "        0.00000000e+00, 0.00000000e+00, 0.00000000e+00, 0.00000000e+00,\n",
       "        0.00000000e+00, 0.00000000e+00, 0.00000000e+00, 0.00000000e+00,\n",
       "        0.00000000e+00, 0.00000000e+00, 0.00000000e+00, 0.00000000e+00],\n",
       "       [0.00000000e+00, 0.00000000e+00, 0.00000000e+00, 0.00000000e+00,\n",
       "        0.00000000e+00, 0.00000000e+00, 0.00000000e+00, 0.00000000e+00,\n",
       "        0.00000000e+00, 0.00000000e+00, 0.00000000e+00, 0.00000000e+00,\n",
       "        0.00000000e+00, 0.00000000e+00, 0.00000000e+00, 0.00000000e+00,\n",
       "        0.00000000e+00, 0.00000000e+00, 0.00000000e+00, 0.00000000e+00,\n",
       "        0.00000000e+00, 0.00000000e+00, 0.00000000e+00, 0.00000000e+00,\n",
       "        0.00000000e+00, 0.00000000e+00, 0.00000000e+00, 0.00000000e+00],\n",
       "       [0.00000000e+00, 0.00000000e+00, 0.00000000e+00, 0.00000000e+00,\n",
       "        0.00000000e+00, 0.00000000e+00, 0.00000000e+00, 0.00000000e+00,\n",
       "        0.00000000e+00, 0.00000000e+00, 0.00000000e+00, 0.00000000e+00,\n",
       "        0.00000000e+00, 0.00000000e+00, 0.00000000e+00, 0.00000000e+00,\n",
       "        0.00000000e+00, 0.00000000e+00, 0.00000000e+00, 0.00000000e+00,\n",
       "        0.00000000e+00, 0.00000000e+00, 0.00000000e+00, 0.00000000e+00,\n",
       "        0.00000000e+00, 0.00000000e+00, 0.00000000e+00, 0.00000000e+00],\n",
       "       [0.00000000e+00, 0.00000000e+00, 0.00000000e+00, 0.00000000e+00,\n",
       "        0.00000000e+00, 0.00000000e+00, 0.00000000e+00, 0.00000000e+00,\n",
       "        0.00000000e+00, 0.00000000e+00, 0.00000000e+00, 0.00000000e+00,\n",
       "        6.03086294e-08, 0.00000000e+00, 0.00000000e+00, 7.84012182e-07,\n",
       "        4.40252995e-06, 0.00000000e+00, 0.00000000e+00, 6.03086294e-08,\n",
       "        2.41234518e-07, 0.00000000e+00, 0.00000000e+00, 0.00000000e+00,\n",
       "        0.00000000e+00, 6.03086294e-08, 6.03086294e-08, 0.00000000e+00],\n",
       "       [0.00000000e+00, 0.00000000e+00, 0.00000000e+00, 0.00000000e+00,\n",
       "        0.00000000e+00, 0.00000000e+00, 0.00000000e+00, 0.00000000e+00,\n",
       "        0.00000000e+00, 0.00000000e+00, 0.00000000e+00, 0.00000000e+00,\n",
       "        1.80925888e-07, 0.00000000e+00, 2.17111066e-06, 8.20197360e-06,\n",
       "        7.65919594e-06, 3.73913502e-06, 3.25666599e-06, 0.00000000e+00,\n",
       "        0.00000000e+00, 0.00000000e+00, 6.03086294e-08, 1.80925888e-07,\n",
       "        2.41234518e-07, 0.00000000e+00, 0.00000000e+00, 1.80925888e-07],\n",
       "       [0.00000000e+00, 0.00000000e+00, 0.00000000e+00, 0.00000000e+00,\n",
       "        0.00000000e+00, 0.00000000e+00, 0.00000000e+00, 0.00000000e+00,\n",
       "        0.00000000e+00, 0.00000000e+00, 0.00000000e+00, 0.00000000e+00,\n",
       "        3.61851776e-07, 0.00000000e+00, 6.15148020e-06, 1.23029604e-05,\n",
       "        1.06143188e-05, 8.08135634e-06, 8.68444264e-06, 7.41796142e-06,\n",
       "        1.38709848e-06, 0.00000000e+00, 0.00000000e+00, 0.00000000e+00,\n",
       "        0.00000000e+00, 7.23703553e-07, 6.03086294e-07, 0.00000000e+00],\n",
       "       [0.00000000e+00, 0.00000000e+00, 0.00000000e+00, 0.00000000e+00,\n",
       "        0.00000000e+00, 0.00000000e+00, 0.00000000e+00, 0.00000000e+00,\n",
       "        0.00000000e+00, 0.00000000e+00, 0.00000000e+00, 0.00000000e+00,\n",
       "        0.00000000e+00, 0.00000000e+00, 9.34783756e-06, 1.42328365e-05,\n",
       "        1.24838863e-05, 1.07349360e-05, 6.45302335e-06, 9.40814619e-06,\n",
       "        9.70968934e-06, 6.57364061e-06, 3.85975228e-06, 1.38709848e-06,\n",
       "        4.64376446e-06, 7.84012182e-06, 4.34222132e-06, 9.04629441e-07],\n",
       "       [0.00000000e+00, 0.00000000e+00, 0.00000000e+00, 0.00000000e+00,\n",
       "        0.00000000e+00, 0.00000000e+00, 0.00000000e+00, 0.00000000e+00,\n",
       "        0.00000000e+00, 0.00000000e+00, 0.00000000e+00, 6.03086294e-08,\n",
       "        0.00000000e+00, 4.16129543e-06, 1.24838863e-05, 1.34488244e-05,\n",
       "        1.31472812e-05, 1.30266640e-05, 1.30266640e-05, 9.83030659e-06,\n",
       "        7.65919594e-06, 7.29734416e-06, 7.35765279e-06, 8.80505989e-06,\n",
       "        8.50351675e-06, 5.30715939e-06, 1.03730843e-05, 3.98036954e-06],\n",
       "       [0.00000000e+00, 0.00000000e+00, 0.00000000e+00, 0.00000000e+00,\n",
       "        0.00000000e+00, 0.00000000e+00, 0.00000000e+00, 0.00000000e+00,\n",
       "        0.00000000e+00, 6.03086294e-08, 6.03086294e-08, 6.03086294e-08,\n",
       "        0.00000000e+00, 1.20617259e-05, 1.39916020e-05, 1.39916020e-05,\n",
       "        1.40519107e-05, 1.38106761e-05, 1.34488244e-05, 1.34488244e-05,\n",
       "        1.29663553e-05, 1.28457381e-05, 9.89061522e-06, 7.65919594e-06,\n",
       "        7.41796142e-06, 1.18204914e-05, 1.38106761e-05, 0.00000000e+00],\n",
       "       [0.00000000e+00, 0.00000000e+00, 0.00000000e+00, 0.00000000e+00,\n",
       "        0.00000000e+00, 0.00000000e+00, 0.00000000e+00, 0.00000000e+00,\n",
       "        0.00000000e+00, 0.00000000e+00, 0.00000000e+00, 0.00000000e+00,\n",
       "        0.00000000e+00, 1.10364792e-05, 1.35694416e-05, 1.30266640e-05,\n",
       "        1.34488244e-05, 1.37503675e-05, 1.41725279e-05, 1.36900589e-05,\n",
       "        1.35091330e-05, 1.33885157e-05, 1.35091330e-05, 1.33282071e-05,\n",
       "        1.34488244e-05, 1.47756142e-05, 1.04333929e-05, 0.00000000e+00],\n",
       "       [0.00000000e+00, 0.00000000e+00, 0.00000000e+00, 0.00000000e+00,\n",
       "        0.00000000e+00, 0.00000000e+00, 0.00000000e+00, 0.00000000e+00,\n",
       "        0.00000000e+00, 0.00000000e+00, 0.00000000e+00, 0.00000000e+00,\n",
       "        0.00000000e+00, 1.16395655e-05, 1.37503675e-05, 1.31472812e-05,\n",
       "        1.28457381e-05, 1.19411086e-05, 1.08555533e-05, 1.27854294e-05,\n",
       "        1.26648122e-05, 1.27251208e-05, 1.28457381e-05, 1.34488244e-05,\n",
       "        1.32678985e-05, 1.46549969e-05, 1.21823431e-05, 0.00000000e+00],\n",
       "       [0.00000000e+00, 0.00000000e+00, 0.00000000e+00, 0.00000000e+00,\n",
       "        0.00000000e+00, 0.00000000e+00, 0.00000000e+00, 0.00000000e+00,\n",
       "        0.00000000e+00, 6.03086294e-08, 1.80925888e-07, 0.00000000e+00,\n",
       "        7.23703553e-07, 1.32075898e-05, 1.32678985e-05, 1.27854294e-05,\n",
       "        1.31472812e-05, 1.15792568e-05, 1.01921584e-05, 1.36900589e-05,\n",
       "        1.25441949e-05, 1.31472812e-05, 1.35091330e-05, 1.27854294e-05,\n",
       "        1.36297502e-05, 1.18808000e-05, 1.26045035e-05, 3.13604873e-06],\n",
       "       [0.00000000e+00, 0.00000000e+00, 0.00000000e+00, 0.00000000e+00,\n",
       "        0.00000000e+00, 0.00000000e+00, 0.00000000e+00, 0.00000000e+00,\n",
       "        0.00000000e+00, 0.00000000e+00, 3.61851776e-07, 0.00000000e+00,\n",
       "        5.97055431e-06, 1.47153056e-05, 1.33885157e-05, 1.32678985e-05,\n",
       "        1.31472812e-05, 1.22426518e-05, 1.19411086e-05, 1.33282071e-05,\n",
       "        1.29663553e-05, 1.28457381e-05, 1.33885157e-05, 1.32678985e-05,\n",
       "        1.47756142e-05, 7.17672690e-06, 1.00715411e-05, 3.37728325e-06],\n",
       "       [0.00000000e+00, 0.00000000e+00, 0.00000000e+00, 0.00000000e+00,\n",
       "        0.00000000e+00, 0.00000000e+00, 0.00000000e+00, 0.00000000e+00,\n",
       "        0.00000000e+00, 2.41234518e-07, 0.00000000e+00, 0.00000000e+00,\n",
       "        3.31697462e-06, 1.42328365e-05, 1.37503675e-05, 1.38709848e-05,\n",
       "        1.37503675e-05, 1.44740711e-05, 1.39916020e-05, 1.28457381e-05,\n",
       "        1.31472812e-05, 1.34488244e-05, 1.41122193e-05, 1.30869726e-05,\n",
       "        1.30869726e-05, 1.26045035e-05, 5.54839391e-06, 0.00000000e+00],\n",
       "       [0.00000000e+00, 0.00000000e+00, 6.03086294e-08, 2.41234518e-07,\n",
       "        3.61851776e-07, 4.22160406e-07, 1.20617259e-07, 0.00000000e+00,\n",
       "        0.00000000e+00, 0.00000000e+00, 0.00000000e+00, 0.00000000e+00,\n",
       "        1.42931452e-05, 1.36297502e-05, 1.30869726e-05, 1.34488244e-05,\n",
       "        1.33885157e-05, 1.32075898e-05, 1.33885157e-05, 1.33282071e-05,\n",
       "        1.30266640e-05, 1.34488244e-05, 1.38106761e-05, 1.29663553e-05,\n",
       "        1.31472812e-05, 1.53787005e-05, 4.64376446e-06, 0.00000000e+00],\n",
       "       [0.00000000e+00, 1.80925888e-07, 0.00000000e+00, 0.00000000e+00,\n",
       "        0.00000000e+00, 0.00000000e+00, 0.00000000e+00, 0.00000000e+00,\n",
       "        0.00000000e+00, 3.73913502e-06, 8.74475126e-06, 1.23029604e-05,\n",
       "        1.37503675e-05, 1.24838863e-05, 1.28457381e-05, 1.33282071e-05,\n",
       "        1.31472812e-05, 1.25441949e-05, 1.27251208e-05, 1.31472812e-05,\n",
       "        1.35091330e-05, 1.34488244e-05, 1.32075898e-05, 1.29663553e-05,\n",
       "        1.35091330e-05, 1.47153056e-05, 9.58907208e-06, 0.00000000e+00],\n",
       "       [0.00000000e+00, 0.00000000e+00, 0.00000000e+00, 0.00000000e+00,\n",
       "        1.08555533e-06, 2.65357969e-06, 4.94530761e-06, 6.45302335e-06,\n",
       "        1.13983310e-05, 1.37503675e-05, 1.32678985e-05, 1.33885157e-05,\n",
       "        1.30869726e-05, 1.36297502e-05, 1.20617259e-05, 1.23632690e-05,\n",
       "        1.27251208e-05, 1.38709848e-05, 1.35091330e-05, 1.41122193e-05,\n",
       "        1.06143188e-05, 1.13380223e-05, 1.50771574e-05, 1.49565401e-05,\n",
       "        1.40519107e-05, 1.43534538e-05, 1.29663553e-05, 0.00000000e+00],\n",
       "       [0.00000000e+00, 3.43759188e-06, 1.12777137e-05, 1.25441949e-05,\n",
       "        1.35091330e-05, 1.33282071e-05, 1.35091330e-05, 1.25441949e-05,\n",
       "        1.23029604e-05, 1.29060467e-05, 1.25441949e-05, 1.26045035e-05,\n",
       "        1.20617259e-05, 9.58907208e-06, 1.47756142e-05, 1.16395655e-05,\n",
       "        1.24235777e-05, 1.34488244e-05, 1.53787005e-05, 1.53787005e-05,\n",
       "        1.33282071e-05, 1.41122193e-05, 1.33282071e-05, 1.27251208e-05,\n",
       "        1.32678985e-05, 1.39916020e-05, 1.48359228e-05, 0.00000000e+00],\n",
       "       [1.80925888e-07, 1.21823431e-05, 1.37503675e-05, 1.35091330e-05,\n",
       "        1.33282071e-05, 1.27251208e-05, 1.27251208e-05, 1.29060467e-05,\n",
       "        1.23632690e-05, 1.23632690e-05, 1.23632690e-05, 1.32678985e-05,\n",
       "        1.44740711e-05, 4.82469035e-06, 9.04629441e-06, 1.53787005e-05,\n",
       "        1.38106761e-05, 1.33282071e-05, 1.13380223e-05, 9.28752893e-06,\n",
       "        1.15189482e-05, 1.26648122e-05, 1.23029604e-05, 1.26045035e-05,\n",
       "        1.33885157e-05, 1.37503675e-05, 1.35694416e-05, 0.00000000e+00],\n",
       "       [5.91024568e-06, 1.40519107e-05, 1.19411086e-05, 1.26648122e-05,\n",
       "        1.33885157e-05, 1.38106761e-05, 1.38106761e-05, 1.41122193e-05,\n",
       "        1.50168487e-05, 1.32678985e-05, 1.16998741e-05, 1.29663553e-05,\n",
       "        1.30869726e-05, 1.45343797e-05, 3.92006091e-06, 4.40252995e-06,\n",
       "        6.39271472e-06, 7.05610964e-06, 1.01318497e-05, 1.32075898e-05,\n",
       "        1.33282071e-05, 1.29663553e-05, 1.30869726e-05, 1.34488244e-05,\n",
       "        1.34488244e-05, 1.35091330e-05, 1.38106761e-05, 1.74895025e-06],\n",
       "       [4.52314721e-06, 1.23029604e-05, 1.27854294e-05, 1.23029604e-05,\n",
       "        1.16395655e-05, 1.23632690e-05, 1.27251208e-05, 1.35694416e-05,\n",
       "        1.30266640e-05, 1.11570964e-05, 1.18808000e-05, 1.24235777e-05,\n",
       "        1.19411086e-05, 1.28457381e-05, 1.44740711e-05, 1.17601827e-05,\n",
       "        1.36900589e-05, 1.47756142e-05, 1.44137624e-05, 1.34488244e-05,\n",
       "        1.31472812e-05, 1.27854294e-05, 1.26045035e-05, 1.33885157e-05,\n",
       "        1.32678985e-05, 1.33282071e-05, 1.38709848e-05, 4.04067817e-06],\n",
       "       [2.89481421e-06, 1.22426518e-05, 1.10364792e-05, 1.16998741e-05,\n",
       "        1.28457381e-05, 1.18808000e-05, 1.11570964e-05, 1.14586396e-05,\n",
       "        1.16998741e-05, 1.15792568e-05, 1.21823431e-05, 1.29060467e-05,\n",
       "        1.32075898e-05, 1.33282071e-05, 1.32678985e-05, 1.42328365e-05,\n",
       "        1.35694416e-05, 1.30266640e-05, 1.20014173e-05, 1.24235777e-05,\n",
       "        1.12174051e-05, 1.09158619e-05, 1.06746274e-05, 1.03730843e-05,\n",
       "        1.09158619e-05, 1.23632690e-05, 1.24235777e-05, 6.93549238e-06],\n",
       "       [0.00000000e+00, 7.35765279e-06, 1.32075898e-05, 1.16395655e-05,\n",
       "        1.07952447e-05, 1.03127756e-05, 1.10364792e-05, 1.18204914e-05,\n",
       "        1.23029604e-05, 1.26648122e-05, 1.28457381e-05, 1.24838863e-05,\n",
       "        1.27251208e-05, 1.26648122e-05, 1.20617259e-05, 1.18204914e-05,\n",
       "        1.16998741e-05, 1.15189482e-05, 1.17601827e-05, 1.15189482e-05,\n",
       "        1.19411086e-05, 1.15792568e-05, 1.06143188e-05, 9.40814619e-06,\n",
       "        1.00715411e-05, 1.06746274e-05, 1.26648122e-05, 5.54839391e-06],\n",
       "       [0.00000000e+00, 0.00000000e+00, 4.46283858e-06, 1.13983310e-05,\n",
       "        1.27854294e-05, 1.15189482e-05, 1.05540101e-05, 1.03730843e-05,\n",
       "        1.05540101e-05, 1.09158619e-05, 1.11570964e-05, 1.13380223e-05,\n",
       "        1.13983310e-05, 1.13380223e-05, 1.16395655e-05, 1.19411086e-05,\n",
       "        1.23029604e-05, 1.26045035e-05, 1.26648122e-05, 1.26648122e-05,\n",
       "        1.27251208e-05, 1.13380223e-05, 1.13380223e-05, 1.16998741e-05,\n",
       "        1.15792568e-05, 1.30266640e-05, 1.02524670e-05, 0.00000000e+00],\n",
       "       [1.20617259e-07, 0.00000000e+00, 0.00000000e+00, 0.00000000e+00,\n",
       "        3.98036954e-06, 1.20617259e-05, 1.33885157e-05, 1.42931452e-05,\n",
       "        1.44137624e-05, 1.45946883e-05, 1.48359228e-05, 1.46549969e-05,\n",
       "        1.47153056e-05, 1.33282071e-05, 1.32678985e-05, 1.16395655e-05,\n",
       "        1.15189482e-05, 1.07952447e-05, 1.09761706e-05, 1.09761706e-05,\n",
       "        1.09158619e-05, 1.06143188e-05, 1.00112325e-05, 1.01318497e-05,\n",
       "        5.97055431e-06, 3.49790051e-06, 0.00000000e+00, 0.00000000e+00],\n",
       "       [0.00000000e+00, 0.00000000e+00, 0.00000000e+00, 0.00000000e+00,\n",
       "        0.00000000e+00, 0.00000000e+00, 0.00000000e+00, 2.41234518e-06,\n",
       "        3.67882639e-06, 2.65357969e-06, 4.34222132e-06, 2.47265381e-06,\n",
       "        2.11080203e-06, 0.00000000e+00, 0.00000000e+00, 0.00000000e+00,\n",
       "        0.00000000e+00, 0.00000000e+00, 0.00000000e+00, 0.00000000e+00,\n",
       "        0.00000000e+00, 0.00000000e+00, 0.00000000e+00, 0.00000000e+00,\n",
       "        0.00000000e+00, 0.00000000e+00, 0.00000000e+00, 0.00000000e+00],\n",
       "       [0.00000000e+00, 0.00000000e+00, 0.00000000e+00, 0.00000000e+00,\n",
       "        0.00000000e+00, 0.00000000e+00, 0.00000000e+00, 0.00000000e+00,\n",
       "        0.00000000e+00, 0.00000000e+00, 0.00000000e+00, 0.00000000e+00,\n",
       "        0.00000000e+00, 0.00000000e+00, 0.00000000e+00, 0.00000000e+00,\n",
       "        0.00000000e+00, 0.00000000e+00, 0.00000000e+00, 0.00000000e+00,\n",
       "        0.00000000e+00, 0.00000000e+00, 0.00000000e+00, 0.00000000e+00,\n",
       "        0.00000000e+00, 0.00000000e+00, 0.00000000e+00, 0.00000000e+00],\n",
       "       [0.00000000e+00, 0.00000000e+00, 0.00000000e+00, 0.00000000e+00,\n",
       "        0.00000000e+00, 0.00000000e+00, 0.00000000e+00, 0.00000000e+00,\n",
       "        0.00000000e+00, 0.00000000e+00, 0.00000000e+00, 0.00000000e+00,\n",
       "        0.00000000e+00, 0.00000000e+00, 0.00000000e+00, 0.00000000e+00,\n",
       "        0.00000000e+00, 0.00000000e+00, 0.00000000e+00, 0.00000000e+00,\n",
       "        0.00000000e+00, 0.00000000e+00, 0.00000000e+00, 0.00000000e+00,\n",
       "        0.00000000e+00, 0.00000000e+00, 0.00000000e+00, 0.00000000e+00]])"
      ]
     },
     "execution_count": 45,
     "metadata": {},
     "output_type": "execute_result"
    }
   ],
   "source": [
    "#lets check train\n",
    "x_train[0]"
   ]
  },
  {
   "cell_type": "code",
   "execution_count": 149,
   "metadata": {},
   "outputs": [],
   "source": [
    "#import sequential keras library\n",
    "from keras.models import Sequential\n",
    "from keras.layers import Dense, Activation,Flatten"
   ]
  },
  {
   "cell_type": "code",
   "execution_count": 150,
   "metadata": {},
   "outputs": [],
   "source": [
    "\n",
    "model=Sequential()"
   ]
  },
  {
   "cell_type": "code",
   "execution_count": 151,
   "metadata": {},
   "outputs": [],
   "source": [
    "#we will bulid neuarl network input layer\n",
    "model.add(Flatten(input_shape=[28,28]))\n",
    "#2nd layer Danse layer this is hidden layer\n",
    "model.add(Dense(200, activation='relu'))\n",
    "#lets check which one is better\n",
    "model.add(Dense(10, activation='softmax'))\n"
   ]
  },
  {
   "cell_type": "code",
   "execution_count": 146,
   "metadata": {},
   "outputs": [
    {
     "name": "stdout",
     "output_type": "stream",
     "text": [
      "Model: \"sequential_5\"\n",
      "_________________________________________________________________\n",
      "Layer (type)                 Output Shape              Param #   \n",
      "=================================================================\n",
      "flatten_12 (Flatten)         (None, 784)               0         \n",
      "_________________________________________________________________\n",
      "dense_9 (Dense)              (None, 200)               157000    \n",
      "_________________________________________________________________\n",
      "dense_10 (Dense)             (None, 10)                2010      \n",
      "=================================================================\n",
      "Total params: 159,010\n",
      "Trainable params: 159,010\n",
      "Non-trainable params: 0\n",
      "_________________________________________________________________\n"
     ]
    }
   ],
   "source": [
    "model.summary()"
   ]
  },
  {
   "cell_type": "code",
   "execution_count": 142,
   "metadata": {},
   "outputs": [],
   "source": [
    "model.compile(loss=\"sparse_categorical_crossentropy\",\n",
    "             optimizer=\"adam\",\n",
    "             metrics=[\"accuracy\"])"
   ]
  },
  {
   "cell_type": "code",
   "execution_count": 117,
   "metadata": {},
   "outputs": [
    {
     "name": "stdout",
     "output_type": "stream",
     "text": [
      "Epoch 1/5\n",
      "60000/60000 [==============================] - 9s 145us/step - loss: 2.3026 - accuracy: 0.0994\n",
      "Epoch 2/5\n",
      "60000/60000 [==============================] - 8s 139us/step - loss: 2.2994 - accuracy: 0.1220\n",
      "Epoch 3/5\n",
      "60000/60000 [==============================] - 8s 138us/step - loss: 2.2861 - accuracy: 0.1721\n",
      "Epoch 4/5\n",
      "60000/60000 [==============================] - 8s 141us/step - loss: 2.2564 - accuracy: 0.1918\n",
      "Epoch 5/5\n",
      "60000/60000 [==============================] - 8s 140us/step - loss: 2.2137 - accuracy: 0.2194\n"
     ]
    },
    {
     "data": {
      "text/plain": [
       "<keras.callbacks.callbacks.History at 0x1aa0da409b0>"
      ]
     },
     "execution_count": 117,
     "metadata": {},
     "output_type": "execute_result"
    }
   ],
   "source": [
    "model.fit(x_train,y_train,epochs=5)"
   ]
  },
  {
   "cell_type": "code",
   "execution_count": 136,
   "metadata": {},
   "outputs": [
    {
     "data": {
      "text/plain": [
       "<matplotlib.image.AxesImage at 0x1aa0e0cd908>"
      ]
     },
     "execution_count": 136,
     "metadata": {},
     "output_type": "execute_result"
    },
    {
     "data": {
      "image/png": "[encoded data removed]",
      "text/plain": [
       "<Figure size 288x288 with 1 Axes>"
      ]
     },
     "metadata": {
      "needs_background": "light"
     },
     "output_type": "display_data"
    }
   ],
   "source": [
    "plt.matshow(x_test[1])"
   ]
  },
  {
   "cell_type": "code",
   "execution_count": 122,
   "metadata": {},
   "outputs": [
    {
     "data": {
      "text/plain": [
       "(10000, 28, 28)"
      ]
     },
     "execution_count": 122,
     "metadata": {},
     "output_type": "execute_result"
    }
   ],
   "source": [
    "x_test.shape"
   ]
  },
  {
   "cell_type": "code",
   "execution_count": 137,
   "metadata": {},
   "outputs": [],
   "source": [
    "yp=model.predict(x_test)"
   ]
  },
  {
   "cell_type": "code",
   "execution_count": 124,
   "metadata": {},
   "outputs": [
    {
     "data": {
      "text/plain": [
       "array([0.11985512, 0.11224822, 0.11530364, 0.11337683, 0.12095827,\n",
       "       0.07298452, 0.10918843, 0.07107562, 0.08749431, 0.07751507],\n",
       "      dtype=float32)"
      ]
     },
     "execution_count": 124,
     "metadata": {},
     "output_type": "execute_result"
    }
   ],
   "source": [
    "yp[1]"
   ]
  },
  {
   "cell_type": "code",
   "execution_count": 138,
   "metadata": {},
   "outputs": [
    {
     "data": {
      "text/plain": [
       "8"
      ]
     },
     "execution_count": 138,
     "metadata": {},
     "output_type": "execute_result"
    }
   ],
   "source": [
    "np.argmax(yp[4])"
   ]
  },
  {
   "cell_type": "code",
   "execution_count": 139,
   "metadata": {},
   "outputs": [
    {
     "name": "stdout",
     "output_type": "stream",
     "text": [
      "10000/10000 [==============================] - 1s 128us/step\n"
     ]
    },
    {
     "data": {
      "text/plain": [
       "[2.1899471687316896, 0.27959999442100525]"
      ]
     },
     "execution_count": 139,
     "metadata": {},
     "output_type": "execute_result"
    }
   ],
   "source": [
    "#this my finaly prediction\n",
    "model.evaluate(x_test,y_test)"
   ]
  },
  {
   "cell_type": "code",
   "execution_count": null,
   "metadata": {},
   "outputs": [],
   "source": []
  }
 ],
 "metadata": {
  "kernelspec": {
   "display_name": "Python 3",
   "language": "python",
   "name": "python3"
  },
  "language_info": {
   "codemirror_mode": {
    "name": "ipython",
    "version": 3
   },
   "file_extension": ".py",
   "mimetype": "text/x-python",
   "name": "python",
   "nbconvert_exporter": "python",
   "pygments_lexer": "ipython3",
   "version": "3.7.3"
  }
 },
 "nbformat": 4,
 "nbformat_minor": 2
}
